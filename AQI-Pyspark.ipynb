{
 "cells": [
  {
   "cell_type": "code",
   "execution_count": 1,
   "id": "7148fb32",
   "metadata": {},
   "outputs": [],
   "source": [
    "from pyspark.sql import SparkSession\n",
    "from pyspark.sql.functions import col, avg, max, min, countDistinct, round, when, isnan"
   ]
  },
  {
   "cell_type": "code",
   "execution_count": 2,
   "id": "67286c1a",
   "metadata": {},
   "outputs": [],
   "source": [
    "spark = SparkSession.builder \\\n",
    "    .appName(\"Air Quality Analysis\") \\\n",
    "    .getOrCreate()"
   ]
  },
  {
   "cell_type": "code",
   "execution_count": 3,
   "id": "7d537c38",
   "metadata": {},
   "outputs": [
    {
     "name": "stdout",
     "output_type": "stream",
     "text": [
      "Schema:\n",
      "root\n",
      " |-- country: string (nullable = true)\n",
      " |-- state: string (nullable = true)\n",
      " |-- city: string (nullable = true)\n",
      " |-- station: string (nullable = true)\n",
      " |-- last_update: string (nullable = true)\n",
      " |-- latitude: double (nullable = true)\n",
      " |-- longitude: double (nullable = true)\n",
      " |-- pollutant_id: string (nullable = true)\n",
      " |-- pollutant_min: string (nullable = true)\n",
      " |-- pollutant_max: string (nullable = true)\n",
      " |-- pollutant_avg: string (nullable = true)\n",
      "\n",
      "\n",
      "Sample data:\n",
      "+-------+-----+----+--------------------------+-------------------+---------+---------+------------+-------------+-------------+-------------+\n",
      "|country|state|city|station                   |last_update        |latitude |longitude|pollutant_id|pollutant_min|pollutant_max|pollutant_avg|\n",
      "+-------+-----+----+--------------------------+-------------------+---------+---------+------------+-------------+-------------+-------------+\n",
      "|India  |Bihar|Gaya|Collectorate, Gaya - BSPCB|07-10-2025 10:00:00|24.7955  |84.9994  |SO2         |10           |13           |11           |\n",
      "|India  |Bihar|Gaya|Collectorate, Gaya - BSPCB|07-10-2025 10:00:00|24.7955  |84.9994  |OZONE       |19           |68           |20           |\n",
      "|India  |Bihar|Gaya|Kareemganj, Gaya - BSPCB  |07-10-2025 10:00:00|24.792403|84.992416|PM2.5       |7            |80           |31           |\n",
      "|India  |Bihar|Gaya|Kareemganj, Gaya - BSPCB  |07-10-2025 10:00:00|24.792403|84.992416|NO2         |2            |7            |5            |\n",
      "|India  |Bihar|Gaya|Kareemganj, Gaya - BSPCB  |07-10-2025 10:00:00|24.792403|84.992416|CO          |39           |40           |40           |\n",
      "+-------+-----+----+--------------------------+-------------------+---------+---------+------------+-------------+-------------+-------------+\n",
      "only showing top 5 rows\n"
     ]
    }
   ],
   "source": [
    "file_path = \"air_quality_data.csv\"  \n",
    "df = spark.read.csv(file_path, header=True, inferSchema=True)\n",
    "\n",
    "print(\"Schema:\")\n",
    "df.printSchema()\n",
    "\n",
    "print(\"\\nSample data:\")\n",
    "df.show(5, truncate=False)"
   ]
  },
  {
   "cell_type": "code",
   "execution_count": 4,
   "id": "212cc3c9",
   "metadata": {},
   "outputs": [],
   "source": [
    "df_clean = df.replace('NA', None)\n",
    "df_clean = df_clean.na.drop(subset=[\"pollutant_avg\"])"
   ]
  },
  {
   "cell_type": "code",
   "execution_count": 5,
   "id": "c809e50a",
   "metadata": {},
   "outputs": [
    {
     "name": "stdout",
     "output_type": "stream",
     "text": [
      "\n",
      "Number of unique monitoring stations: 470\n"
     ]
    }
   ],
   "source": [
    "unique_stations = df_clean.select(countDistinct(\"station\")).collect()[0][0]\n",
    "print(f\"\\nNumber of unique monitoring stations: {unique_stations}\")"
   ]
  },
  {
   "cell_type": "code",
   "execution_count": 6,
   "id": "750f9c5c",
   "metadata": {},
   "outputs": [
    {
     "name": "stdout",
     "output_type": "stream",
     "text": [
      "\n",
      "Average pollutant levels by state:\n",
      "+----------------+-------------------+\n",
      "|           state|Avg_Pollutant_Level|\n",
      "+----------------+-------------------+\n",
      "|Himachal Pradesh|              44.71|\n",
      "|       Jharkhand|               40.0|\n",
      "|           Delhi|              33.92|\n",
      "|     West_Bengal|               31.2|\n",
      "|   Uttar_Pradesh|              30.49|\n",
      "|  Andhra_Pradesh|              30.15|\n",
      "|  Madhya Pradesh|              29.93|\n",
      "|         Haryana|              28.65|\n",
      "|          Odisha|              28.36|\n",
      "|          Kerala|              28.27|\n",
      "+----------------+-------------------+\n",
      "only showing top 10 rows\n"
     ]
    }
   ],
   "source": [
    "print(\"\\nAverage pollutant levels by state:\")\n",
    "df_clean.groupBy(\"state\").agg(\n",
    "    round(avg(\"pollutant_avg\"), 2).alias(\"Avg_Pollutant_Level\")\n",
    ").orderBy(col(\"Avg_Pollutant_Level\").desc()).show(10)"
   ]
  },
  {
   "cell_type": "code",
   "execution_count": 7,
   "id": "184d99a7",
   "metadata": {},
   "outputs": [
    {
     "name": "stdout",
     "output_type": "stream",
     "text": [
      "\n",
      "Most common pollutants monitored:\n",
      "+------------+-----+\n",
      "|pollutant_id|count|\n",
      "+------------+-----+\n",
      "|          CO|  445|\n",
      "|       OZONE|  436|\n",
      "|         NO2|  431|\n",
      "|         SO2|  419|\n",
      "|        PM10|  415|\n",
      "|       PM2.5|  409|\n",
      "|         NH3|  371|\n",
      "+------------+-----+\n",
      "\n"
     ]
    }
   ],
   "source": [
    "print(\"\\nMost common pollutants monitored:\")\n",
    "df_clean.groupBy(\"pollutant_id\").count().orderBy(col(\"count\").desc()).show()"
   ]
  },
  {
   "cell_type": "code",
   "execution_count": 8,
   "id": "458a0e29",
   "metadata": {},
   "outputs": [
    {
     "name": "stdout",
     "output_type": "stream",
     "text": [
      "\n",
      "Min/Max/Average values for each pollutant:\n",
      "+------------+---------+---------+---------+\n",
      "|pollutant_id|Min_Value|Max_Value|Avg_Value|\n",
      "+------------+---------+---------+---------+\n",
      "|        PM10|      1.0|     99.0|    55.75|\n",
      "|       PM2.5|      1.0|     99.0|    42.61|\n",
      "|          CO|      1.0|     98.0|    28.93|\n",
      "|         NO2|      1.0|     97.0|    20.74|\n",
      "|       OZONE|      1.0|     97.0|    19.58|\n",
      "|         SO2|      1.0|     96.0|    13.25|\n",
      "|         NH3|      1.0|      9.0|     4.53|\n",
      "+------------+---------+---------+---------+\n",
      "\n"
     ]
    }
   ],
   "source": [
    "print(\"\\nMin/Max/Average values for each pollutant:\")\n",
    "df_clean.groupBy(\"pollutant_id\").agg(\n",
    "    round(min(\"pollutant_min\"), 2).alias(\"Min_Value\"),\n",
    "    round(max(\"pollutant_max\"), 2).alias(\"Max_Value\"),\n",
    "    round(avg(\"pollutant_avg\"), 2).alias(\"Avg_Value\")\n",
    ").orderBy(col(\"Avg_Value\").desc()).show(10)"
   ]
  },
  {
   "cell_type": "code",
   "execution_count": 9,
   "id": "d7c84ecb",
   "metadata": {},
   "outputs": [
    {
     "name": "stdout",
     "output_type": "stream",
     "text": [
      "\n",
      "Top polluted cities (based on average pollutant value):\n",
      "+--------------+------------------+\n",
      "|          city|City_Avg_Pollution|\n",
      "+--------------+------------------+\n",
      "|Chikkaballapur|              88.5|\n",
      "| Gummidipoondi|              67.6|\n",
      "|    Mandikhera|             56.75|\n",
      "|       Dhanbad|              48.0|\n",
      "|        Ratlam|              48.0|\n",
      "| Visakhapatnam|             47.29|\n",
      "|      Byrnihat|             46.43|\n",
      "|       Nalbari|             46.43|\n",
      "|        Maihar|              46.2|\n",
      "|         Baddi|             44.71|\n",
      "+--------------+------------------+\n",
      "only showing top 10 rows\n"
     ]
    }
   ],
   "source": [
    "print(\"\\nTop polluted cities (based on average pollutant value):\")\n",
    "df_clean.groupBy(\"city\").agg(\n",
    "    round(avg(\"pollutant_avg\"), 2).alias(\"City_Avg_Pollution\")\n",
    ").orderBy(col(\"City_Avg_Pollution\").desc()).show(10)"
   ]
  },
  {
   "cell_type": "code",
   "execution_count": 10,
   "id": "27a45bff",
   "metadata": {},
   "outputs": [
    {
     "name": "stdout",
     "output_type": "stream",
     "text": [
      "\n",
      "Critical pollutants (avg level > 50):\n",
      "+--------------+------------+--------------------+------------+-------------+\n",
      "|         state|        city|             station|pollutant_id|pollutant_avg|\n",
      "+--------------+------------+--------------------+------------+-------------+\n",
      "|         Bihar|     Bettiah|Kamalnath Nagar, ...|        PM10|           64|\n",
      "|         Bihar|Bihar Sharif|D M Colony, Bihar...|        PM10|           68|\n",
      "|Andhra_Pradesh|   Anantapur|Gulzarpet, Ananta...|        PM10|           59|\n",
      "|         Bihar|       Arrah|New DM Office, Ar...|          CO|           57|\n",
      "|Andhra_Pradesh|  Vijayawada|Rajiv Gandhi Park...|       PM2.5|           56|\n",
      "|         Assam|      Nagaon|Christianpatty, N...|       PM2.5|           56|\n",
      "|         Assam|     Nalbari|Bata Chowk, Nalba...|        PM10|           70|\n",
      "|         Bihar|  Samastipur|DM Office_Kasipur...|       PM2.5|           83|\n",
      "|         Bihar|      Rajgir|Dangi Tola, Rajgi...|        PM10|           87|\n",
      "|         Delhi|       Delhi|Bawana, Delhi - DPCC|        PM10|           62|\n",
      "+--------------+------------+--------------------+------------+-------------+\n",
      "only showing top 10 rows\n"
     ]
    }
   ],
   "source": [
    "print(\"\\nCritical pollutants (avg level > 50):\")\n",
    "df_clean.filter(col(\"pollutant_avg\") > 50).select(\n",
    "    \"state\", \"city\", \"station\", \"pollutant_id\", \"pollutant_avg\"\n",
    ").show(10)"
   ]
  },
  {
   "cell_type": "code",
   "execution_count": 11,
   "id": "2bcb444d",
   "metadata": {},
   "outputs": [],
   "source": [
    "df_aqi = df_clean.withColumn(\n",
    "    \"AQI_Category\",\n",
    "    when(col(\"pollutant_avg\") <= 30, \"Good\")\n",
    "    .when((col(\"pollutant_avg\") > 30) & (col(\"pollutant_avg\") <= 60), \"Moderate\")\n",
    "    .when((col(\"pollutant_avg\") > 60) & (col(\"pollutant_avg\") <= 90), \"Poor\")\n",
    "    .otherwise(\"Severe\")\n",
    ")"
   ]
  },
  {
   "cell_type": "code",
   "execution_count": 12,
   "id": "a99001cd",
   "metadata": {},
   "outputs": [
    {
     "name": "stdout",
     "output_type": "stream",
     "text": [
      "\n",
      "AQI categories for each record:\n",
      "+-----+-------+------------+-------------+------------+\n",
      "|state|   city|pollutant_id|pollutant_avg|AQI_Category|\n",
      "+-----+-------+------------+-------------+------------+\n",
      "|Bihar|   Gaya|         SO2|           11|        Good|\n",
      "|Bihar|   Gaya|       OZONE|           20|        Good|\n",
      "|Bihar|   Gaya|       PM2.5|           31|    Moderate|\n",
      "|Bihar|   Gaya|         NO2|            5|        Good|\n",
      "|Bihar|   Gaya|          CO|           40|    Moderate|\n",
      "|Bihar|   Gaya|       OZONE|            6|        Good|\n",
      "|Bihar|   Gaya|        PM10|           33|    Moderate|\n",
      "|Bihar|   Gaya|         NH3|            3|        Good|\n",
      "|Bihar|Hajipur|         NH3|            5|        Good|\n",
      "|Bihar|Hajipur|         SO2|            4|        Good|\n",
      "+-----+-------+------------+-------------+------------+\n",
      "only showing top 10 rows\n"
     ]
    }
   ],
   "source": [
    "print(\"\\nAQI categories for each record:\")\n",
    "df_aqi.select(\"state\", \"city\", \"pollutant_id\", \"pollutant_avg\", \"AQI_Category\").show(10)"
   ]
  },
  {
   "cell_type": "code",
   "execution_count": 14,
   "id": "210820e7",
   "metadata": {},
   "outputs": [],
   "source": [
    "spark.stop()"
   ]
  },
  {
   "cell_type": "code",
   "execution_count": null,
   "id": "812017f4",
   "metadata": {},
   "outputs": [],
   "source": []
  }
 ],
 "metadata": {
  "kernelspec": {
   "display_name": "PySpark Kernel",
   "language": "python",
   "name": "pyspark-venv"
  },
  "language_info": {
   "codemirror_mode": {
    "name": "ipython",
    "version": 3
   },
   "file_extension": ".py",
   "mimetype": "text/x-python",
   "name": "python",
   "nbconvert_exporter": "python",
   "pygments_lexer": "ipython3",
   "version": "3.13.2"
  }
 },
 "nbformat": 4,
 "nbformat_minor": 5
}
