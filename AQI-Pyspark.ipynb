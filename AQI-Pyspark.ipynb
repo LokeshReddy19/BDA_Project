{
 "cells": [
  {
   "cell_type": "code",
   "execution_count": null,
   "id": "6b1ca73b-5f5b-4b7b-af18-b48497f7a10b",
   "metadata": {},
   "outputs": [],
   "source": [
    "from pyspark.sql import SparkSession\n",
    "from pyspark.sql.functions import col, avg, max, min, countDistinct, round, when, isnan\n"
   ]
  },
  {
   "cell_type": "code",
   "execution_count": null,
   "id": "c974aa69-a0e8-477c-b5e0-eb4bc2fcee95",
   "metadata": {},
   "outputs": [],
   "source": [
    "# 1️⃣ Create Spark session\n",
    "spark = SparkSession.builder \\\n",
    "    .appName(\"Air Quality Analysis\") \\\n",
    "    .getOrCreate()"
   ]
  },
  {
   "cell_type": "code",
   "execution_count": null,
   "id": "f1b40034-f0f5-4ce1-a27c-11a7a3090637",
   "metadata": {},
   "outputs": [],
   "source": [
    "\n",
    "# 2️⃣ Load dataset\n",
    "file_path = \"air_quality_data.csv\"  # 🔹 Change this to your CSV path\n",
    "df = spark.read.csv(file_path, header=True, inferSchema=True)\n",
    "\n",
    "print(\"Schema:\")\n",
    "df.printSchema()\n",
    "\n",
    "print(\"\\nSample data:\")\n",
    "df.show(5, truncate=False)"
   ]
  },
  {
   "cell_type": "code",
   "execution_count": null,
   "id": "6ed81d23-ff98-422b-b9d4-946be0c9adc5",
   "metadata": {},
   "outputs": [],
   "source": [
    "\n",
    "# 3️⃣ Clean data: handle missing/NA values in pollutant columns\n",
    "df_clean = df.replace('NA', None)\n",
    "df_clean = df_clean.na.drop(subset=[\"pollutant_avg\"])\n"
   ]
  },
  {
   "cell_type": "code",
   "execution_count": null,
   "id": "7df05c76-8dba-4200-aebc-1668331600a0",
   "metadata": {},
   "outputs": [],
   "source": [
    "\n",
    "# 4️⃣ Count total unique monitoring stations\n",
    "unique_stations = df_clean.select(countDistinct(\"station\")).collect()[0][0]\n",
    "print(f\"\\nNumber of unique monitoring stations: {unique_stations}\")\n"
   ]
  },
  {
   "cell_type": "code",
   "execution_count": null,
   "id": "9ad598e0-cefa-49ea-bbe2-601fbb49aa38",
   "metadata": {},
   "outputs": [],
   "source": [
    "\n",
    "# 5️⃣ Average pollutant concentration by state\n",
    "print(\"\\nAverage pollutant levels by state:\")\n",
    "df_clean.groupBy(\"state\").agg(\n",
    "    round(avg(\"pollutant_avg\"), 2).alias(\"Avg_Pollutant_Level\")\n",
    ").orderBy(col(\"Avg_Pollutant_Level\").desc()).show(10)"
   ]
  },
  {
   "cell_type": "code",
   "execution_count": null,
   "id": "a65606eb-f2d8-4b7a-a567-55a2f85863a3",
   "metadata": {},
   "outputs": [],
   "source": [
    "\n",
    "# 6️⃣ Most common pollutants monitored\n",
    "print(\"\\nMost common pollutants monitored:\")\n",
    "df_clean.groupBy(\"pollutant_id\").count().orderBy(col(\"count\").desc()).show()"
   ]
  },
  {
   "cell_type": "code",
   "execution_count": null,
   "id": "64a95fda-eb90-4def-b38e-8cd4f31459c2",
   "metadata": {},
   "outputs": [],
   "source": [
    "# 7️⃣ Maximum and minimum pollution values by pollutant\n",
    "print(\"\\nMin/Max/Average values for each pollutant:\")\n",
    "df_clean.groupBy(\"pollutant_id\").agg(\n",
    "    round(min(\"pollutant_min\"), 2).alias(\"Min_Value\"),\n",
    "    round(max(\"pollutant_max\"), 2).alias(\"Max_Value\"),\n",
    "    round(avg(\"pollutant_avg\"), 2).alias(\"Avg_Value\")\n",
    ").orderBy(col(\"Avg_Value\").desc()).show(10)\n"
   ]
  },
  {
   "cell_type": "code",
   "execution_count": null,
   "id": "ca899fe5-b043-49d0-8a64-7a299c7e3680",
   "metadata": {},
   "outputs": [],
   "source": [
    "# 8️⃣ Top polluted cities based on average pollutant value\n",
    "print(\"\\nTop polluted cities (based on average pollutant value):\")\n",
    "df_clean.groupBy(\"city\").agg(\n",
    "    round(avg(\"pollutant_avg\"), 2).alias(\"City_Avg_Pollution\")\n",
    ").orderBy(col(\"City_Avg_Pollution\").desc()).show(10)\n"
   ]
  },
  {
   "cell_type": "code",
   "execution_count": null,
   "id": "1af838f7-fcf4-477e-bc38-cbb04f0e83a1",
   "metadata": {},
   "outputs": [],
   "source": [
    "# 9️⃣ Identify critical pollutants (where average > 50)\n",
    "print(\"\\nCritical pollutants (avg level > 50):\")\n",
    "df_clean.filter(col(\"pollutant_avg\") > 50).select(\n",
    "    \"state\", \"city\", \"station\", \"pollutant_id\", \"pollutant_avg\"\n",
    ").show(10)"
   ]
  },
  {
   "cell_type": "code",
   "execution_count": null,
   "id": "30e745c5-99e1-4fdf-a573-2ff1c3b177a2",
   "metadata": {},
   "outputs": [],
   "source": [
    "\n",
    "# 🔟 Calculate AQI indicator (simplified version)\n",
    "df_aqi = df_clean.withColumn(\n",
    "    \"AQI_Category\",\n",
    "    when(col(\"pollutant_avg\") <= 30, \"Good\")\n",
    "    .when((col(\"pollutant_avg\") > 30) & (col(\"pollutant_avg\") <= 60), \"Moderate\")\n",
    "    .when((col(\"pollutant_avg\") > 60) & (col(\"pollutant_avg\") <= 90), \"Poor\")\n",
    "    .otherwise(\"Severe\")\n",
    ")"
   ]
  },
  {
   "cell_type": "code",
   "execution_count": null,
   "id": "9a2db1cf-5e16-48b4-b390-d59db4884d70",
   "metadata": {},
   "outputs": [],
   "source": [
    "\n",
    "print(\"\\nAQI categories for each record:\")\n",
    "df_aqi.select(\"state\", \"city\", \"pollutant_id\", \"pollutant_avg\", \"AQI_Category\").show(10)\n"
   ]
  },
  {
   "cell_type": "code",
   "execution_count": null,
   "id": "3e0cfcfc-b344-47b0-984f-ca65b2984337",
   "metadata": {},
   "outputs": [],
   "source": [
    "\n",
    "# 1️⃣1️⃣ Save results (optional)\n",
    "output_path = \"processed_air_quality_data.csv\"\n",
    "df_aqi.write.mode(\"overwrite\").csv(output_path, header=True)\n",
    "print(f\"\\n✅ Processed data with AQI categories saved at: {output_path}\")"
   ]
  },
  {
   "cell_type": "code",
   "execution_count": null,
   "id": "f0a20cef-b924-4b6c-b9c7-884a44a2b32c",
   "metadata": {},
   "outputs": [],
   "source": [
    "\n",
    "# Stop Spark session\n",
    "spark.stop()\n"
   ]
  }
 ],
 "metadata": {
  "kernelspec": {
   "display_name": "Python 3 (ipykernel)",
   "language": "python",
   "name": "python3"
  },
  "language_info": {
   "codemirror_mode": {
    "name": "ipython",
    "version": 3
   },
   "file_extension": ".py",
   "mimetype": "text/x-python",
   "name": "python",
   "nbconvert_exporter": "python",
   "pygments_lexer": "ipython3",
   "version": "3.12.4"
  }
 },
 "nbformat": 4,
 "nbformat_minor": 5
}
